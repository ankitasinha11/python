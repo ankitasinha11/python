{
 "cells": [
  {
   "cell_type": "code",
   "execution_count": 1,
   "id": "1f323215-bb43-4b92-8447-9da3dbac28ad",
   "metadata": {},
   "outputs": [
    {
     "name": "stdout",
     "output_type": "stream",
     "text": [
      "1\n",
      "2\n",
      "3\n",
      "4\n",
      "5\n",
      "6\n",
      "7\n",
      "8\n",
      "9\n",
      "10\n"
     ]
    }
   ],
   "source": [
    "#Question 1: Write a Python program to print all the numbers from 1 to 10 using a for loop.\n",
    "\n",
    "for i in range (1,11):\n",
    "    print (i)\n",
    "    "
   ]
  },
  {
   "cell_type": "code",
   "execution_count": 2,
   "id": "abd6a0f3-5824-4a94-96f4-496da4aa326a",
   "metadata": {},
   "outputs": [
    {
     "name": "stdout",
     "output_type": "stream",
     "text": [
      "The sum of all numbers from 1 to 100 is:  101\n"
     ]
    }
   ],
   "source": [
    "#Question 2: Write a Python program to find the sum of all numbers from 1 to 100 using a for\n",
    "#loop.\n",
    "for i in range (1,101):\n",
    "    total_sum = i+1\n",
    "\n",
    "print(\"The sum of all numbers from 1 to 100 is: \",total_sum)\n",
    "\n"
   ]
  },
  {
   "cell_type": "code",
   "execution_count": 3,
   "id": "46b6ad24-e669-41c2-aef5-b88644e979b4",
   "metadata": {},
   "outputs": [
    {
     "name": "stdin",
     "output_type": "stream",
     "text": [
      "Enter a number 45\n"
     ]
    },
    {
     "name": "stdout",
     "output_type": "stream",
     "text": [
      "45x1=45\n",
      "45x2=90\n",
      "45x3=135\n",
      "45x4=180\n",
      "45x5=225\n",
      "45x6=270\n",
      "45x7=315\n",
      "45x8=360\n",
      "45x9=405\n",
      "45x10=450\n"
     ]
    }
   ],
   "source": [
    "#Question 3: Write a Python program to print the multiplication table of a given number using a\n",
    "#for loop.\n",
    "\n",
    "def print_table(number):\n",
    "    for i in range (1,11):\n",
    "        print(f\"{number}x{i}={number*i}\")\n",
    "\n",
    "\n",
    "num = int(input(\"Enter a number\"))\n",
    "\n",
    "print_table(num)\n"
   ]
  },
  {
   "cell_type": "code",
   "execution_count": 4,
   "id": "01a6148d-f441-48cc-9068-fffbbc094cca",
   "metadata": {},
   "outputs": [
    {
     "name": "stdout",
     "output_type": "stream",
     "text": [
      "Even: 5\n",
      "Odd: 5\n"
     ]
    }
   ],
   "source": [
    "\"\"\"Question 4: Write a Python program to count the number of even and odd numbers from a\n",
    "series of numbers using a for loop.\n",
    "Hint: Find even and odd from this list: [1, 2, 3, 4, 5, 6, 7, 8, 9, 10]\"\"\"\n",
    "\n",
    "numbers = [1, 2, 3, 4, 5, 6, 7, 8, 9, 10]\n",
    "even_count = 0\n",
    "odd_count = 0\n",
    "\n",
    "for num in numbers:\n",
    "    if num % 2 == 0:\n",
    "        even_count += 1\n",
    "    else:\n",
    "        odd_count += 1\n",
    "\n",
    "print(\"Even:\", even_count)\n",
    "print(\"Odd:\", odd_count)\n",
    "\n",
    "\n"
   ]
  },
  {
   "cell_type": "code",
   "execution_count": 22,
   "id": "d7551c2a-ec6c-450d-96e4-c9630bcfe7e9",
   "metadata": {},
   "outputs": [
    {
     "name": "stdin",
     "output_type": "stream",
     "text": [
      "Enter a number:  12\n"
     ]
    },
    {
     "name": "stdout",
     "output_type": "stream",
     "text": [
      "Factorial: 479001600\n"
     ]
    }
   ],
   "source": [
    "#Question 5: Write a Python program to find the factorial of a number using a for loop.\n",
    "\n",
    "num = int(input(\"Enter a number: \"))\n",
    "fact = 1\n",
    "for i in range(1, num + 1):\n",
    "    fact *= i\n",
    "print(\"Factorial:\", fact)\n"
   ]
  },
  {
   "cell_type": "code",
   "execution_count": 6,
   "id": "2eef6c57-7d84-4fc3-86b4-fdcdb6866d4b",
   "metadata": {},
   "outputs": [
    {
     "name": "stdin",
     "output_type": "stream",
     "text": [
      "Enter the number of terms:  23\n"
     ]
    },
    {
     "name": "stdout",
     "output_type": "stream",
     "text": [
      "0 1 1 2 3 5 8 13 21 34 55 89 144 233 377 610 987 1597 2584 4181 6765 10946 17711 "
     ]
    }
   ],
   "source": [
    "#Question 6: Write a Python program to print the Fibonacci sequence up to a specified number\n",
    "#using a for loop.\n",
    "num = int(input(\"Enter the number of terms: \"))\n",
    "a, b = 0, 1\n",
    "for i in range(num):\n",
    "    print(a, end=\" \")\n",
    "    a, b = b, a + b\n"
   ]
  },
  {
   "cell_type": "code",
   "execution_count": 7,
   "id": "d0cef3e8-cac5-4387-a156-bfc2a8adb323",
   "metadata": {},
   "outputs": [
    {
     "name": "stdin",
     "output_type": "stream",
     "text": [
      "Enter a number:  3456\n"
     ]
    },
    {
     "name": "stdout",
     "output_type": "stream",
     "text": [
      "3456 is not prime.\n"
     ]
    }
   ],
   "source": [
    "#Question 7: Write a Python program to check if a given number is prime or not using a for loop.\n",
    "num = int(input(\"Enter a number: \"))\n",
    "\n",
    "if num > 1:\n",
    "    for i in range(2, int(num**0.5) + 1):\n",
    "        if num % i == 0:\n",
    "            print(num, \"is not prime.\")\n",
    "            break\n",
    "    else:\n",
    "        print(num, \"is prime number.\")\n",
    "else:\n",
    "    print(num, \"is not prime number.\")\n"
   ]
  },
  {
   "cell_type": "code",
   "execution_count": 23,
   "id": "90212384-49c0-4e9c-bbbe-e7489b53e27f",
   "metadata": {},
   "outputs": [
    {
     "name": "stdout",
     "output_type": "stream",
     "text": [
      "largest number is 89\n"
     ]
    }
   ],
   "source": [
    "#Question 8: Write a Python program to find the largest element in a list using a for loop.\n",
    "numbers = [12, 45, 7, 23, 56, 89, 34]\n",
    "largest = numbers[0]\n",
    "for i in range(1, len(numbers)):\n",
    "    if numbers[i] > largest:\n",
    "        largest = numbers[i]\n",
    "print(\"largest number is\",largest)\n"
   ]
  },
  {
   "cell_type": "code",
   "execution_count": 9,
   "id": "04871255-a7e6-4c98-afb2-a32127486ce1",
   "metadata": {},
   "outputs": [
    {
     "name": "stdin",
     "output_type": "stream",
     "text": [
      "Enter a string:  45\n"
     ]
    },
    {
     "name": "stdout",
     "output_type": "stream",
     "text": [
      "Reversed string: 54\n"
     ]
    }
   ],
   "source": [
    "#Question 9: Write a Python program to reverse a given string using a for loop.\n",
    "\n",
    "input_str = input(\"Enter a string: \")\n",
    "reversed_s = \"\"\n",
    "\n",
    "for i in range(len(input_str)):\n",
    "    reversed_s += input_str[len(input_str) - i - 1]\n",
    "\n",
    "print(\"Reversed string:\", reversed_s)\n"
   ]
  },
  {
   "cell_type": "code",
   "execution_count": 13,
   "id": "010c68f6-ab21-4f3d-9f30-88a34ca8ada3",
   "metadata": {},
   "outputs": [
    {
     "name": "stdout",
     "output_type": "stream",
     "text": [
      "Common elements: [1]\n"
     ]
    }
   ],
   "source": [
    "\"\"\"Question 10: Write a Python program to find the common elements between two lists using a\n",
    "for loop.\n",
    "List1 = [1,2,3]\n",
    "List2 = [4,5,1] # common element is 1\"\"\"\n",
    "\n",
    "List1 = [1, 2, 3]\n",
    "List2 = [4, 5, 1]\n",
    "common = []\n",
    "\n",
    "for i in List1:\n",
    "    if i in List2 and i not in common:\n",
    "        common.append(i)\n",
    "\n",
    "print(\"Common elements:\", common)\n",
    "\n",
    "\n",
    "\n",
    "\n"
   ]
  },
  {
   "cell_type": "code",
   "execution_count": null,
   "id": "2dcbefc7-a741-4b60-8baf-0792172d4852",
   "metadata": {},
   "outputs": [],
   "source": []
  },
  {
   "cell_type": "code",
   "execution_count": null,
   "id": "04d80951-ef69-4a00-9a0e-21a857ac2a7a",
   "metadata": {},
   "outputs": [],
   "source": []
  }
 ],
 "metadata": {
  "kernelspec": {
   "display_name": "Python 3 (ipykernel)",
   "language": "python",
   "name": "python3"
  },
  "language_info": {
   "codemirror_mode": {
    "name": "ipython",
    "version": 3
   },
   "file_extension": ".py",
   "mimetype": "text/x-python",
   "name": "python",
   "nbconvert_exporter": "python",
   "pygments_lexer": "ipython3",
   "version": "3.12.4"
  }
 },
 "nbformat": 4,
 "nbformat_minor": 5
}
